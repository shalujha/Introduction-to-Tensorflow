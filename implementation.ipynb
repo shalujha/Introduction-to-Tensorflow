{
 "cells": [
  {
   "cell_type": "code",
   "execution_count": 33,
   "metadata": {},
   "outputs": [],
   "source": [
    "import numpy as np\n",
    "import tensorflow as tf \n",
    "from sklearn.datasets import  load_boston\n",
    "from sklearn.model_selection import train_test_split"
   ]
  },
  {
   "cell_type": "code",
   "execution_count": 6,
   "metadata": {},
   "outputs": [],
   "source": [
    "boston=load_boston()"
   ]
  },
  {
   "cell_type": "code",
   "execution_count": 7,
   "metadata": {},
   "outputs": [],
   "source": [
    "features=boston.data\n",
    "labels=boston.target"
   ]
  },
  {
   "cell_type": "code",
   "execution_count": 8,
   "metadata": {},
   "outputs": [
    {
     "name": "stdout",
     "output_type": "stream",
     "text": [
      "(506, 13) (506,)\n"
     ]
    }
   ],
   "source": [
    "print(features.shape,labels.shape)"
   ]
  },
  {
   "cell_type": "code",
   "execution_count": 9,
   "metadata": {},
   "outputs": [
    {
     "name": "stdout",
     "output_type": "stream",
     "text": [
      "(506, 1)\n"
     ]
    }
   ],
   "source": [
    "# lets convert labels into matrix\n",
    "labels=labels.reshape((-1,1))\n",
    "print(labels.shape)"
   ]
  },
  {
   "cell_type": "code",
   "execution_count": 34,
   "metadata": {},
   "outputs": [],
   "source": [
    "X_train,X_test,Y_train,Y_test=train_test_split(features,labels,test_size=0.2)"
   ]
  },
  {
   "cell_type": "code",
   "execution_count": 14,
   "metadata": {},
   "outputs": [],
   "source": [
    "def normalisation(data):\n",
    "    m=np.mean(data)\n",
    "    std=np.std(data)\n",
    "    normalised_data=((data-m)/std)\n",
    "    return normalised_data"
   ]
  },
  {
   "cell_type": "code",
   "execution_count": 15,
   "metadata": {},
   "outputs": [],
   "source": [
    "features=normalisation(features)\n",
    "labels=normalisation(labels)"
   ]
  },
  {
   "cell_type": "code",
   "execution_count": 18,
   "metadata": {},
   "outputs": [],
   "source": [
    "# since in linear regression, there is one additional feature, for x0 like we did in multivariate regression\n",
    "bias_feature=np.ones((features.shape[0],1))\n",
    "features=np.concatenate((bias_feature,features),axis=1)"
   ]
  },
  {
   "cell_type": "code",
   "execution_count": 19,
   "metadata": {},
   "outputs": [
    {
     "name": "stdout",
     "output_type": "stream",
     "text": [
      "(506, 14)\n"
     ]
    }
   ],
   "source": [
    "print(features.shape)"
   ]
  },
  {
   "cell_type": "markdown",
   "metadata": {},
   "source": [
    "# create model"
   ]
  },
  {
   "cell_type": "code",
   "execution_count": 20,
   "metadata": {},
   "outputs": [],
   "source": [
    "num_samples=features.shape[0]\n",
    "num_features=features.shape[1]\n",
    "num_epochs=20"
   ]
  },
  {
   "cell_type": "code",
   "execution_count": 25,
   "metadata": {},
   "outputs": [],
   "source": [
    "# it will handle Ist parameter on its own during training time , as reshape does\n",
    "X=tf.placeholder(dtype=tf.float32,shape=[None,num_features])\n",
    "Y=tf.placeholder(dtype=tf.float32,shape=[None,1])"
   ]
  },
  {
   "cell_type": "code",
   "execution_count": 32,
   "metadata": {},
   "outputs": [
    {
     "name": "stdout",
     "output_type": "stream",
     "text": [
      "<tf.Variable 'Variable_2:0' shape=(14, 1) dtype=float32_ref>\n"
     ]
    }
   ],
   "source": [
    "W=tf.Variable(tf.random_normal(shape=(num_features,1)))\n",
    "print(W) # this is not a matrix , instead it is an object, so Ist we buld skeleton of graph and after that it gets executed"
   ]
  },
  {
   "cell_type": "code",
   "execution_count": 28,
   "metadata": {},
   "outputs": [],
   "source": [
    "Y_pred=tf.matmul(X,W)"
   ]
  },
  {
   "cell_type": "code",
   "execution_count": 29,
   "metadata": {},
   "outputs": [],
   "source": [
    "cost=tf.reduce_mean(tf.square(Y_pred-Y))"
   ]
  },
  {
   "cell_type": "code",
   "execution_count": 30,
   "metadata": {},
   "outputs": [],
   "source": [
    "opt=tf.train.GradientDescentOptimizer(learning_rate=0.01).minimize(cost)"
   ]
  },
  {
   "cell_type": "markdown",
   "metadata": {},
   "source": [
    " our optimizer will calculate the gradients and it would update the variables according to that gradient"
   ]
  },
  {
   "cell_type": "code",
   "execution_count": 42,
   "metadata": {},
   "outputs": [
    {
     "name": "stdout",
     "output_type": "stream",
     "text": [
      "Epoch : 1 Training loss : 8.6646 Testing loss : 10.2188 \n",
      "Epoch : 2 Training loss : 7.7106 Testing loss : 9.2548 \n",
      "Epoch : 3 Training loss : 7.0675 Testing loss : 8.5848 \n",
      "Epoch : 4 Training loss : 6.6014 Testing loss : 8.0831 \n",
      "Epoch : 5 Training loss : 6.2382 Testing loss : 7.6799 \n",
      "Epoch : 6 Training loss : 5.9366 Testing loss : 7.3367 \n",
      "Epoch : 7 Training loss : 5.6737 Testing loss : 7.0317 \n",
      "Epoch : 8 Training loss : 5.4366 Testing loss : 6.7529 \n",
      "Epoch : 9 Training loss : 5.2178 Testing loss : 6.4933 \n",
      "Epoch : 10 Training loss : 5.0131 Testing loss : 6.2489 \n",
      "Epoch : 11 Training loss : 4.8200 Testing loss : 6.0173 \n",
      "Epoch : 12 Training loss : 4.6370 Testing loss : 5.7970 \n",
      "Epoch : 13 Training loss : 4.4630 Testing loss : 5.5870 \n",
      "Epoch : 14 Training loss : 4.2973 Testing loss : 5.3865 \n",
      "Epoch : 15 Training loss : 4.1393 Testing loss : 5.1950 \n",
      "Epoch : 16 Training loss : 3.9886 Testing loss : 5.0119 \n",
      "Epoch : 17 Training loss : 3.8448 Testing loss : 4.8369 \n",
      "Epoch : 18 Training loss : 3.7075 Testing loss : 4.6695 \n",
      "Epoch : 19 Training loss : 3.5765 Testing loss : 4.5095 \n",
      "Epoch : 20 Training loss : 3.4514 Testing loss : 4.3564 \n"
     ]
    }
   ],
   "source": [
    "with tf.Session() as sess:\n",
    "    sess.run(tf.global_variables_initializer()) # like we are initialising weight matrix\n",
    "    for epoch in range(num_epochs):\n",
    "        sess.run(opt,feed_dict={\n",
    "            X:X_train,\n",
    "            Y:Y_train\n",
    "        })\n",
    "        train_loss=sess.run(cost,feed_dict={\n",
    "            X:X_train,\n",
    "            Y:Y_train\n",
    "        })\n",
    "        test_loss=sess.run(cost,feed_dict={\n",
    "            X:X_test,\n",
    "            Y:Y_test\n",
    "        })\n",
    "        \n",
    "        print(\"Epoch : {} Training loss : {:.04f} Testing loss : {:.04f} \".format(epoch+1,train_loss,test_loss))\n",
    "    \n",
    "    "
   ]
  },
  {
   "cell_type": "code",
   "execution_count": null,
   "metadata": {},
   "outputs": [],
   "source": []
  }
 ],
 "metadata": {
  "kernelspec": {
   "display_name": "Python 3",
   "language": "python",
   "name": "python3"
  },
  "language_info": {
   "codemirror_mode": {
    "name": "ipython",
    "version": 3
   },
   "file_extension": ".py",
   "mimetype": "text/x-python",
   "name": "python",
   "nbconvert_exporter": "python",
   "pygments_lexer": "ipython3",
   "version": "3.6.8"
  }
 },
 "nbformat": 4,
 "nbformat_minor": 2
}
